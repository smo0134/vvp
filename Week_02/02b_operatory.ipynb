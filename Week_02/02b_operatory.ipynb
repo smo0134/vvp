{
 "cells": [
  {
   "attachments": {},
   "cell_type": "markdown",
   "metadata": {},
   "source": [
    "# Operátory v Pythonu\n",
    "\n",
    "## Unární operátory\n",
    "\n",
    "- `not` &ensp; negace logické hodnoty\n",
    "- `+` &ensp; pouze indikátor kladné hodnoty (v podstatě nic nedělá)\n",
    "- `-` &ensp; otočení znaménka (int, float)\n",
    "- `~` &ensp; bit-wise flip, přehození bitů (pouze int)\n",
    "- `*` &ensp; rozbalení iterable objektu - dobírání `excess` objektů při rozbalování listu\n"
   ]
  },
  {
   "cell_type": "code",
   "execution_count": 1,
   "metadata": {},
   "outputs": [
    {
     "name": "stdout",
     "output_type": "stream",
     "text": [
      "False\n"
     ]
    }
   ],
   "source": [
    "x = True\n",
    "print(not x)"
   ]
  },
  {
   "cell_type": "code",
   "execution_count": 2,
   "metadata": {},
   "outputs": [
    {
     "name": "stdout",
     "output_type": "stream",
     "text": [
      "3\n"
     ]
    }
   ],
   "source": [
    "x = 3\n",
    "print(+x)"
   ]
  },
  {
   "cell_type": "code",
   "execution_count": 3,
   "metadata": {},
   "outputs": [
    {
     "name": "stdout",
     "output_type": "stream",
     "text": [
      "3\n"
     ]
    }
   ],
   "source": [
    "x = -3\n",
    "print(-x)"
   ]
  },
  {
   "cell_type": "code",
   "execution_count": 4,
   "metadata": {},
   "outputs": [
    {
     "name": "stdout",
     "output_type": "stream",
     "text": [
      "0b110\n",
      "-0b111\n",
      "-7\n"
     ]
    }
   ],
   "source": [
    "x = 6\n",
    "print(bin(x))\n",
    "print(bin(~x))\n",
    "print(~x)\n",
    "# divné že? problém je v reprezentaci int v pythonu, konkrétně záporných hodnot (two's complement representation)"
   ]
  },
  {
   "cell_type": "code",
   "execution_count": 5,
   "metadata": {},
   "outputs": [
    {
     "name": "stdout",
     "output_type": "stream",
     "text": [
      "1\n",
      "2\n",
      "[3, 4, 5]\n"
     ]
    }
   ],
   "source": [
    "x = [1, 2, 3, 4, 5]\n",
    "a, b, *c = x\n",
    "print(a)\n",
    "print(b)\n",
    "print(c)"
   ]
  },
  {
   "attachments": {},
   "cell_type": "markdown",
   "metadata": {},
   "source": [
    "\n",
    "## Binární operátory\n",
    "\n",
    "### Aritmetické\n",
    " - `+`  &ensp; Addition\tx + y\t\n",
    " - `-`\t&ensp; Subtraction\tx - y\t\n",
    " - `*`\t&ensp; Multiplication\tx * y\t\n",
    " - `/`\t&ensp; Division\tx / y\t\n",
    " - `%`\t&ensp; Modulus\tx % y\t\n",
    " - `**` &ensp; Exponentiation\tx ** y\t\n",
    " - `//` &ensp; Floor division\tx // y"
   ]
  },
  {
   "cell_type": "code",
   "execution_count": 6,
   "metadata": {},
   "outputs": [
    {
     "name": "stdout",
     "output_type": "stream",
     "text": [
      "5\n",
      "1\n",
      "6\n",
      "2.0\n",
      "1\n",
      "8\n",
      "2\n"
     ]
    }
   ],
   "source": [
    "print(2 + 3)\n",
    "print(3 - 2)\n",
    "print(2 * 3)\n",
    "print(6 / 3)\n",
    "print(7 % 3)\n",
    "print(2 ** 3)\n",
    "print(7 // 3)"
   ]
  },
  {
   "attachments": {},
   "cell_type": "markdown",
   "metadata": {},
   "source": [
    "### Bitwise\n",
    "\n",
    "- `&` &ensp; AND - bitové a zároveň\n",
    "- `|` &ensp; OR - bitové nebo\n",
    "- `^` &ensp; XOR - bitové a exkluzivní nebo\n",
    "- `<<` &ensp; Zero fill left shift - posune bity doleva, doplní nulami\n",
    "- `>>` &ensp; Signed right shift - posune bity doprava"
   ]
  },
  {
   "cell_type": "code",
   "execution_count": 8,
   "metadata": {},
   "outputs": [
    {
     "name": "stdout",
     "output_type": "stream",
     "text": [
      "10\n",
      "12\n"
     ]
    }
   ],
   "source": [
    "x = 0b1010\n",
    "y = 0b1100\n",
    "print(x)\n",
    "print(y)"
   ]
  },
  {
   "cell_type": "code",
   "execution_count": 9,
   "metadata": {},
   "outputs": [
    {
     "name": "stdout",
     "output_type": "stream",
     "text": [
      "8\n",
      "0b1000\n",
      "14\n",
      "0b1110\n",
      "6\n",
      "0b110\n",
      "40\n",
      "0b101000\n",
      "2\n",
      "0b10\n"
     ]
    }
   ],
   "source": [
    "print(x & y)\n",
    "print(bin(x & y)) \n",
    "\n",
    "print(x | y)\n",
    "print(bin(x | y))\n",
    "\n",
    "print(x ^ y)\n",
    "print(bin(x ^ y))\n",
    "\n",
    "print(x << 2)\n",
    "print(bin(x << 2))\n",
    "\n",
    "print(x >> 2)\n",
    "print(bin(x >> 2))"
   ]
  },
  {
   "attachments": {},
   "cell_type": "markdown",
   "metadata": {},
   "source": [
    "### S True/False výstupem\n",
    "\n",
    "\n",
    "- `is`  &ensp; porovnává, zda jsou dva objekty stejné (ne stejná data ale stejné id())\n",
    "- `is not` &ensp; negace `is`\n",
    "- `in` &ensp;\tporovnávání, zda je prvek v množině (listu)\n",
    "- `not in` &ensp;\tnegace `in`\n",
    "- `and` &ensp; \tlogické a zároveň mezi dvěmi logickými hodnotami\n",
    "- `or` &ensp;\tlogické nebo mezi dvěmi logickými hodnotami\n",
    "- `==`\t&ensp; rovnost (mezi porovnatelnými typy)\t\n",
    "- `!=`\t&ensp; nerovno\n",
    "- `>`\t&ensp; větší\n",
    "- `<` &ensp;\tmenší\n",
    "- `>=`\t&ensp; větší nebo rovno\n",
    "- `<=` &ensp;\tmenší nebo rovno"
   ]
  },
  {
   "cell_type": "code",
   "execution_count": 10,
   "metadata": {},
   "outputs": [
    {
     "name": "stdout",
     "output_type": "stream",
     "text": [
      "False\n",
      "True\n"
     ]
    }
   ],
   "source": [
    "x = [1, 2, 3]\n",
    "y = [1, 2, 3]\n",
    "z = x\n",
    "print(x is y) # prorovnává pamet\n",
    "print(x is z)"
   ]
  },
  {
   "cell_type": "code",
   "execution_count": 11,
   "metadata": {},
   "outputs": [
    {
     "name": "stdout",
     "output_type": "stream",
     "text": [
      "True\n",
      "False\n"
     ]
    }
   ],
   "source": [
    "x = [1, 2, 3]\n",
    "y = [1, 2, 3]\n",
    "z = x\n",
    "print(x is not y) # prorotvnava pamet\n",
    "print(x is not z) "
   ]
  },
  {
   "cell_type": "code",
   "execution_count": 12,
   "metadata": {},
   "outputs": [
    {
     "name": "stdout",
     "output_type": "stream",
     "text": [
      "True\n"
     ]
    }
   ],
   "source": [
    "x = [1, 2, 3]\n",
    "y = 2\n",
    "print(y in x) # porovnava mnoziny"
   ]
  },
  {
   "cell_type": "code",
   "execution_count": 13,
   "metadata": {},
   "outputs": [
    {
     "name": "stdout",
     "output_type": "stream",
     "text": [
      "True\n"
     ]
    }
   ],
   "source": [
    "x = [1, 2, 3]\n",
    "y = 4\n",
    "print(y not in x) # prorovnava mnoziny"
   ]
  },
  {
   "cell_type": "code",
   "execution_count": 14,
   "metadata": {},
   "outputs": [
    {
     "name": "stdout",
     "output_type": "stream",
     "text": [
      "False\n",
      "True\n"
     ]
    }
   ],
   "source": [
    "print(True and False) # logicke a\n",
    "print(True and True)\n"
   ]
  },
  {
   "cell_type": "code",
   "execution_count": 15,
   "metadata": {},
   "outputs": [
    {
     "name": "stdout",
     "output_type": "stream",
     "text": [
      "True\n",
      "True\n",
      "False\n"
     ]
    }
   ],
   "source": [
    "print(True or False) # logicke nebo\n",
    "print(True or True)\n",
    "print(False or False)\n"
   ]
  },
  {
   "cell_type": "code",
   "execution_count": 26,
   "metadata": {},
   "outputs": [
    {
     "name": "stdout",
     "output_type": "stream",
     "text": [
      "False\n",
      "False\n",
      "False\n",
      "True\n"
     ]
    }
   ],
   "source": [
    "x = 3\n",
    "y = 4\n",
    "print(x == y)\n",
    "\n",
    "x = 2/3\n",
    "y = 1-1/3\n",
    "print(x == y)\n",
    "\n",
    "x = [1, 2]\n",
    "y = [1, 2, 3]\n",
    "print(x == y)\n",
    "y.pop()\n",
    "print(x == y)"
   ]
  },
  {
   "cell_type": "code",
   "execution_count": 27,
   "metadata": {},
   "outputs": [
    {
     "name": "stdout",
     "output_type": "stream",
     "text": [
      "True\n",
      "True\n"
     ]
    }
   ],
   "source": [
    "x = 3\n",
    "y = 4\n",
    "print(x != y)\n",
    "\n",
    "x = [1, 2]\n",
    "y = [1, 2, 3]\n",
    "print(x != y)"
   ]
  },
  {
   "cell_type": "code",
   "execution_count": 28,
   "metadata": {},
   "outputs": [
    {
     "name": "stdout",
     "output_type": "stream",
     "text": [
      "False\n",
      "False\n",
      "True\n",
      "True\n",
      "False\n"
     ]
    }
   ],
   "source": [
    "x = 3\n",
    "y = 4\n",
    "print(x > y)\n",
    "\n",
    "x = [1, 2]\n",
    "y = [1, 2, 3]\n",
    "print(x > y)\n",
    "print(x < y)\n",
    "\n",
    "x = [1, 5] #porovnávají se po prvcích\n",
    "y = [1, 2, 3]\n",
    "print(x > y)\n",
    "print(x < y)\n",
    "# co se vlastně děje?"
   ]
  },
  {
   "attachments": {},
   "cell_type": "markdown",
   "metadata": {},
   "source": [
    "Některé operátory mají vlastní (netriviální/neintuitivní) definice pro jiné než číselné datové typy\n",
    "\n",
    "`[1, 5] < [1, 2, 3]` porovnává oba seznamy prvky po prvcích a vrátí `True`, pokud je první prvek prvního seznamu menší než první prvek druhého seznamu. Pokud jsou první prvky rovny, porovná druhé prvky a tak dále."
   ]
  },
  {
   "cell_type": "code",
   "execution_count": 30,
   "metadata": {},
   "outputs": [
    {
     "name": "stdout",
     "output_type": "stream",
     "text": [
      "True\n",
      "False\n"
     ]
    }
   ],
   "source": [
    "print([1,2] < [1,3])\n",
    "print([2,1] < [1,3])"
   ]
  },
  {
   "cell_type": "code",
   "execution_count": 31,
   "metadata": {},
   "outputs": [
    {
     "ename": "TypeError",
     "evalue": "'>' not supported between instances of 'str' and 'int'",
     "output_type": "error",
     "traceback": [
      "\u001b[0;31m---------------------------------------------------------------------------\u001b[0m",
      "\u001b[0;31mTypeError\u001b[0m                                 Traceback (most recent call last)",
      "Cell \u001b[0;32mIn[31], line 3\u001b[0m\n\u001b[1;32m      1\u001b[0m x \u001b[38;5;241m=\u001b[39m [\u001b[38;5;241m1\u001b[39m, \u001b[38;5;124m\"\u001b[39m\u001b[38;5;124m5\u001b[39m\u001b[38;5;124m\"\u001b[39m]\n\u001b[1;32m      2\u001b[0m y \u001b[38;5;241m=\u001b[39m [\u001b[38;5;241m1\u001b[39m, \u001b[38;5;241m2\u001b[39m, \u001b[38;5;124m\"\u001b[39m\u001b[38;5;124m3\u001b[39m\u001b[38;5;124m\"\u001b[39m]\n\u001b[0;32m----> 3\u001b[0m \u001b[38;5;28mprint\u001b[39m(\u001b[43mx\u001b[49m\u001b[43m \u001b[49m\u001b[38;5;241;43m>\u001b[39;49m\u001b[43m \u001b[49m\u001b[43my\u001b[49m)\n\u001b[1;32m      4\u001b[0m \u001b[38;5;28mprint\u001b[39m(x \u001b[38;5;241m<\u001b[39m y)\n\u001b[1;32m      5\u001b[0m \u001b[38;5;66;03m# prvky uvnitř musí být mezi sebou porovnatelné\u001b[39;00m\n",
      "\u001b[0;31mTypeError\u001b[0m: '>' not supported between instances of 'str' and 'int'"
     ]
    }
   ],
   "source": [
    "x = [1, \"5\"]\n",
    "y = [1, 2, \"3\"]\n",
    "print(x > y)\n",
    "print(x < y)\n",
    "# prvky uvnitř musí být mezi sebou porovnatelné"
   ]
  },
  {
   "cell_type": "code",
   "execution_count": 32,
   "metadata": {},
   "outputs": [
    {
     "name": "stdout",
     "output_type": "stream",
     "text": [
      "False\n",
      "False\n",
      "False\n",
      "False\n",
      "True\n",
      "False\n"
     ]
    }
   ],
   "source": [
    "x = {1, \"5\"}\n",
    "y = {1, 2, \"3\"}\n",
    "z = {1, \"3\"}\n",
    "print(x > y)\n",
    "print(x < y)\n",
    "print(x > z)\n",
    "print(x < z)\n",
    "print(y > z)\n",
    "print(y < z)\n",
    "# pro množiny je definice jakožto \"je podmnožina?\""
   ]
  },
  {
   "cell_type": "code",
   "execution_count": 33,
   "metadata": {},
   "outputs": [
    {
     "name": "stdout",
     "output_type": "stream",
     "text": [
      "True\n"
     ]
    }
   ],
   "source": [
    "x = 3\n",
    "y = 4\n",
    "print(x < y)"
   ]
  },
  {
   "cell_type": "code",
   "execution_count": 34,
   "metadata": {},
   "outputs": [
    {
     "name": "stdout",
     "output_type": "stream",
     "text": [
      "False\n"
     ]
    }
   ],
   "source": [
    "x = 3\n",
    "y = 4\n",
    "print(x >= y)"
   ]
  },
  {
   "cell_type": "code",
   "execution_count": 35,
   "metadata": {},
   "outputs": [
    {
     "name": "stdout",
     "output_type": "stream",
     "text": [
      "True\n"
     ]
    }
   ],
   "source": [
    "x = 3\n",
    "y = 4\n",
    "print(x <= y)"
   ]
  },
  {
   "attachments": {},
   "cell_type": "markdown",
   "metadata": {},
   "source": [
    "### Přiřazovací operátory\n",
    "\n",
    "- `=` &ensp;\tpř.: `x = 5` stejné jako `x = 5`\n",
    "- `+=` &ensp;\tpř.: `x += 3` stejné jako `x = x + 3`\t\n",
    "- `-=` &ensp;\tpř.: `x -= 3` stejné jako `x = x - 3`\t\n",
    "- `*=` &ensp;\tpř.: `x *= 3` stejné jako `x = x * 3`\t\n",
    "- `/=` &ensp;\tpř.: `x /= 3` stejné jako `x = x / 3`\t\n",
    "- `%=` &ensp;\tpř.: `x %= 3` stejné jako `x = x % 3`\t\n",
    "- `//=` &ensp;\tpř.: `x //= 3` stejné jako `x = x // 3`\t\n",
    "- `**=` &ensp;\tpř.: `x **= 3` stejné jako `x = x ** 3`\t\n",
    "- `&=` &ensp;\tpř.: `x &= 3` stejné jako `x = x & 3`\t\n",
    "- `|=` &ensp;\tpř.: `x |= 3` stejné jako `x = x | 3`\t\n",
    "- `^=` &ensp;\tpř.: `x ^= 3` stejné jako `x = x ^ 3`\t\n",
    "- `>>=` &ensp;\tpř.: `x >>= 3` stejné jako `x = x >> 3`\t\n",
    "- `<<=` &ensp;\tpř.: `x <<= 3` stejné jako `x = x << 3`"
   ]
  },
  {
   "attachments": {},
   "cell_type": "markdown",
   "metadata": {},
   "source": [
    "## Ternarní operátory\n",
    "\n",
    "- výraz_True `if` podmínka `else` výraz_False &ensp; - &ensp; zjednodušení if/else pro jednoduché jednořádkové přiřazení"
   ]
  },
  {
   "cell_type": "code",
   "execution_count": 36,
   "metadata": {},
   "outputs": [
    {
     "name": "stdout",
     "output_type": "stream",
     "text": [
      "4\n"
     ]
    }
   ],
   "source": [
    "x = 3\n",
    "y = 4\n",
    "max_value = x if x > y else y\n",
    "print(max_value)"
   ]
  }
 ],
 "metadata": {
  "kernelspec": {
   "display_name": "Python 3",
   "language": "python",
   "name": "python3"
  },
  "language_info": {
   "codemirror_mode": {
    "name": "ipython",
    "version": 3
   },
   "file_extension": ".py",
   "mimetype": "text/x-python",
   "name": "python",
   "nbconvert_exporter": "python",
   "pygments_lexer": "ipython3",
   "version": "3.10.12"
  },
  "orig_nbformat": 4,
  "vscode": {
   "interpreter": {
    "hash": "e7370f93d1d0cde622a1f8e1c04877d8463912d04d973331ad4851f04de6915a"
   }
  }
 },
 "nbformat": 4,
 "nbformat_minor": 2
}
