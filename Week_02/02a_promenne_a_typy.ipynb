{
 "cells": [
  {
   "attachments": {},
   "cell_type": "markdown",
   "metadata": {},
   "source": [
    "# Než začneme\n",
    "V této lekci si ukážeme základy Pythonu. Postupně projdeme:\n",
    "- proměnné a datové typy\n",
    "- operátory\n",
    "- klíčová slova a vestavěné funkce\n",
    "- funkce\n",
    "- podmínky a cykly\n"
   ]
  },
  {
   "cell_type": "markdown",
   "metadata": {},
   "source": [
    "\n",
    "## Import knihoven\n",
    "Kdykoliv budeme chtít v současném souboru použít část kódu, která je v jiném souboru, můžeme to udělat pomocí tzv. `import`. Importujeme-li knihovnu, funkci, třídu apod., můžeme ji používat stejně, jako kdybychom ji měli napsanou zde.\n",
    "\n",
    "Při importu máme možnost vybrat, co chceme importovat. Případně můžeme přejmenovat některé části, aby se nám lépe používaly.\n"
   ]
  },
  {
   "cell_type": "code",
   "execution_count": 1,
   "metadata": {},
   "outputs": [
    {
     "name": "stdout",
     "output_type": "stream",
     "text": [
      "0.4636476090008061\n",
      "0.4636476090008061\n",
      "0.4636476090008061\n",
      "0.4636476090008061\n"
     ]
    }
   ],
   "source": [
    "import numpy\n",
    "from numpy import arctan\n",
    "import numpy as np\n",
    "from numpy import arctan as atan\n",
    "\n",
    "x = 0.5\n",
    "print(numpy.arctan(x))\n",
    "print(np.arctan(x))\n",
    "print(arctan(x))\n",
    "print(atan(x))\n"
   ]
  },
  {
   "cell_type": "code",
   "execution_count": 5,
   "metadata": {},
   "outputs": [
    {
     "name": "stdout",
     "output_type": "stream",
     "text": [
      "Ahoj\n"
     ]
    }
   ],
   "source": [
    "import muj_soubor_1"
   ]
  },
  {
   "cell_type": "markdown",
   "metadata": {},
   "source": [
    "# Proměnné a typy"
   ]
  },
  {
   "attachments": {},
   "cell_type": "markdown",
   "metadata": {},
   "source": [
    "## Názvy proměnných\n",
    "V názvech proměnných v Pythonu se mohou vyskytovat alfanumerické znaky `a-z`, `A-Z`, `0-9` a některé speciální znaky, jako například `_`. Název nemůže začínat číslicí.\n",
    "\n",
    "Základní přiřazování hodnoty je pomocí operátoru `=`."
   ]
  },
  {
   "cell_type": "code",
   "execution_count": 6,
   "metadata": {
    "tags": []
   },
   "outputs": [
    {
     "name": "stdout",
     "output_type": "stream",
     "text": [
      "5\n"
     ]
    }
   ],
   "source": [
    "nazev_promenne = 5\n",
    "print(nazev_promenne)"
   ]
  },
  {
   "attachments": {},
   "cell_type": "markdown",
   "metadata": {},
   "source": [
    "## Všechno je objekt!\n",
    "Všechny proměnné v Pythonu jsou objekty. To znamená, že každá proměnná má svou hodnotu, svůj typ a mnoho dalších vlastností. Všechny objekty mají nějaké vlastnosti a některé z nich jsou přístupné pomocí tečky (`.`). Pokud máme proměnnou `a` a chceme zjistit její typ, můžeme použít `a.__class__` nebo `type(a)`.\n",
    "\n",
    "Konkrétní instance objektu je uložena někde v paměti. Proměnná je jen název, kterým se k ní můžeme dostat. Pokud chceme zjistit, kde je hodnota proměnné uložena, můžeme použít funkci `id()`."
   ]
  },
  {
   "cell_type": "code",
   "execution_count": 7,
   "metadata": {},
   "outputs": [
    {
     "name": "stdout",
     "output_type": "stream",
     "text": [
      "<class 'int'>\n",
      "<class 'int'>\n",
      "139653277303152\n"
     ]
    }
   ],
   "source": [
    "nazev_promenne = 5\n",
    "print(type(nazev_promenne)) # type a .__class__ nám vrací totéž\n",
    "print(nazev_promenne.__class__)\n",
    "print(id(nazev_promenne)) #adresa v paměti"
   ]
  },
  {
   "cell_type": "code",
   "execution_count": 8,
   "metadata": {},
   "outputs": [
    {
     "name": "stdout",
     "output_type": "stream",
     "text": [
      "139653277303152\n",
      "139653277303152\n"
     ]
    }
   ],
   "source": [
    "a=5\n",
    "b=a\n",
    "\n",
    "print(id(a)) # stejné místo v paměti\n",
    "print(id(b))"
   ]
  },
  {
   "attachments": {},
   "cell_type": "markdown",
   "metadata": {},
   "source": [
    "## Měnné a neměnné typy\n",
    "V Pythonu existují dva základní typy objektů/proměnných: měnné a neměnné. Měnné typy mohou být změněny, neměnné ne.\n",
    "\n",
    "Ale co to vlastně znamená? \n",
    "- Je třeba uvažovat separátně o proměnné a o její hodnotě, tedy o místu v paměti.\n",
    "- Pokud je typ měnný, můžeme jeho hodnotu změnit, aniž bychom změnili místo v paměti, kde je uložena, tedy `id()` proměnné zůstane stejný.\n",
    "- Pokud je typ neměnný, můžeme sice hodnotu proměnné změnit, ale místo v paměti, kde je uložena, se změní, tedy `id()` proměnné se změní.\n",
    "\n",
    "Měnné typy jsou například `list`, `dict`, `set` a `bytearray`.\n",
    "\n",
    "Neměnné typy jsou například `int`, `float`, `bool`, `complex`, `str`, `tuple`, `range`, `bytes` a `frozenset`.\n"
   ]
  },
  {
   "cell_type": "code",
   "execution_count": 9,
   "metadata": {},
   "outputs": [
    {
     "name": "stdout",
     "output_type": "stream",
     "text": [
      "139653277303152\n",
      "139653277303184\n"
     ]
    }
   ],
   "source": [
    "moje_promenna = 5 \n",
    "print(id(moje_promenna))\n",
    "moje_promenna = moje_promenna + 1\n",
    "print(id(moje_promenna)) "
   ]
  },
  {
   "attachments": {},
   "cell_type": "markdown",
   "metadata": {},
   "source": [
    "## Základní typy\n",
    "\n",
    "Mezi základní typy patří:\n",
    " - `Integers (int)` - celá čísla\n",
    " - `Floats (float)` - desetinná čísla s omezenou přesností\n",
    " - `Boolean (bool)` - booleovské/logické hodnoty - 0/1\n",
    " - `Complex (complex)` - komplexní čísla\n",
    " - `String (str)` - řetězce "
   ]
  },
  {
   "cell_type": "code",
   "execution_count": 10,
   "metadata": {},
   "outputs": [
    {
     "name": "stdout",
     "output_type": "stream",
     "text": [
      "<class 'int'>\n",
      "<class 'int'>\n"
     ]
    }
   ],
   "source": [
    "x = -1 # neomezena delka integer, protoze predem neresi pamet\n",
    "print(type(x))\n",
    "x = 3_564_562\n",
    "print(type(x))\n"
   ]
  },
  {
   "cell_type": "code",
   "execution_count": 11,
   "metadata": {},
   "outputs": [
    {
     "name": "stdout",
     "output_type": "stream",
     "text": [
      "<class 'float'>\n",
      "<class 'float'>\n"
     ]
    }
   ],
   "source": [
    "x = 5.3\n",
    "print(type(x))\n",
    "x = 563e-12 \n",
    "print(type(x))"
   ]
  },
  {
   "cell_type": "code",
   "execution_count": 12,
   "metadata": {},
   "outputs": [
    {
     "name": "stdout",
     "output_type": "stream",
     "text": [
      "<class 'bool'>\n",
      "<class 'bool'>\n"
     ]
    }
   ],
   "source": [
    "x = True\n",
    "print(type(x))\n",
    "x = False\n",
    "print(type(x))"
   ]
  },
  {
   "cell_type": "code",
   "execution_count": 14,
   "metadata": {},
   "outputs": [
    {
     "name": "stdout",
     "output_type": "stream",
     "text": [
      "<class 'complex'>\n",
      "5.2\n",
      "1.2\n",
      "<class 'float'>\n"
     ]
    }
   ],
   "source": [
    "x = 5.2 + 1.2j # komplexni cislo znacene j\n",
    "print(type(x))\n",
    "print(x.real)\n",
    "print(x.imag)\n",
    "print(type(x.imag))"
   ]
  },
  {
   "cell_type": "code",
   "execution_count": 17,
   "metadata": {},
   "outputs": [
    {
     "name": "stdout",
     "output_type": "stream",
     "text": [
      "<class 'str'>\n",
      "<class 'str'>\n",
      "<class 'str'>\n",
      "ho\n"
     ]
    }
   ],
   "source": [
    "x = \"a\"\n",
    "print(type(x))\n",
    "x = 'b'\n",
    "print(type(x))\n",
    "x = \"ahoj\"\n",
    "print(type(x))\n",
    "print(x[1:3])"
   ]
  },
  {
   "attachments": {},
   "cell_type": "markdown",
   "metadata": {},
   "source": [
    "## Kontejnery\n",
    "\n",
    "Dalšími základními typy v Pythonu jsou tzv. kontejnery (krabice, přihrádky, ...). Tyto slouží pro organizaci většího množství objektů (jako jsou čísla, řetězce, další kontejnery, ...).\n",
    "\n",
    "K jednotlivým elementům v kontejneru se můžeme dostat pomocí indexu. Ten se zadává do hranatých závorek za objekt kontejneru: `kontejner[index]`.\n",
    "\n",
    "`Pozor! Indexujeme od nuly.`\n",
    "\n",
    "Základní typy kontejnerů v Pythonu jsou:\n",
    " - `tuple ()` - číslovaná série, která nelze po vytvoření měnit.\n",
    " - `list []` - oproti tuple lze měnit, tedy např. měnit hodnoty, přidávat elementy.\n",
    " - `set {}` - nečíslovaná množina prvků, lze měnit, ale lze do ní vkládat pouze neměnné typy.\n",
    " - `dictionary { : }` - množina prvků organizovaná dle klíče, klíče mohou být jakékoliv neměnné typy.\n",
    "\n",
    "Počet záznamů v kontejneru zjistíme pomocí funkce `len()`."
   ]
  },
  {
   "cell_type": "markdown",
   "metadata": {},
   "source": [
    "\n",
    " ### Tuple\n",
    " Tuple je tzv. neměnný kontejner, tedy po vytvoření nelze měnit. Pokus o změnu vyvolá chybu."
   ]
  },
  {
   "cell_type": "code",
   "execution_count": 18,
   "metadata": {},
   "outputs": [
    {
     "name": "stdout",
     "output_type": "stream",
     "text": [
      "<class 'tuple'>\n",
      "(5, 1.2, 'písmenko')\n",
      "1.2\n",
      "3\n"
     ]
    }
   ],
   "source": [
    "muj_tuple = (5, 1.2, \"písmenko\")\n",
    "print(type(muj_tuple))\n",
    "print(muj_tuple)\n",
    "print(muj_tuple[1])\n",
    "print(len(muj_tuple))"
   ]
  },
  {
   "cell_type": "code",
   "execution_count": 20,
   "metadata": {},
   "outputs": [],
   "source": [
    "# muj_tuple[1] = 2"
   ]
  },
  {
   "attachments": {},
   "cell_type": "markdown",
   "metadata": {},
   "source": [
    "### List\n",
    "List je podobný jako tuple, ale lze do něj přidávat a měnit prvky."
   ]
  },
  {
   "cell_type": "code",
   "execution_count": 21,
   "metadata": {},
   "outputs": [
    {
     "name": "stdout",
     "output_type": "stream",
     "text": [
      "<class 'list'>\n",
      "[5, 1.2, 'písmenko']\n",
      "1.2\n",
      "[5, 2, 'písmenko', 3]\n",
      "4\n"
     ]
    }
   ],
   "source": [
    "muj_list = [5, 1.2, \"písmenko\"]\n",
    "print(type(muj_list))\n",
    "print(muj_list)\n",
    "print(muj_list[1])\n",
    "\n",
    "muj_list = list(muj_tuple) # lze vytvorit napr. z tuple\n",
    "muj_list[1] = 2\n",
    "muj_list.append(3) # prida novy prvek 3\n",
    "print(muj_list)\n",
    "print(len(muj_list))"
   ]
  },
  {
   "cell_type": "code",
   "execution_count": 22,
   "metadata": {},
   "outputs": [
    {
     "name": "stdout",
     "output_type": "stream",
     "text": [
      "[5, 2, 'písmenko', 3]\n",
      "[5, 'písmenko', 3]\n"
     ]
    }
   ],
   "source": [
    "print(muj_list)\n",
    "muj_list.pop(1) # smaze prvek na pozici 1\n",
    "print(muj_list)"
   ]
  },
  {
   "attachments": {},
   "cell_type": "markdown",
   "metadata": {},
   "source": [
    "List je měnný typ, takže změna jeho hodnot nezmění místo v paměti, kde je uložen. Tedy `id()` listu zůstane stejný."
   ]
  },
  {
   "cell_type": "code",
   "execution_count": 23,
   "metadata": {},
   "outputs": [
    {
     "name": "stdout",
     "output_type": "stream",
     "text": [
      "139650976531840\n",
      "[5, 1.2, 'písmenko']\n",
      "139650976531840\n",
      "[2, 1.2, 'písmenko']\n"
     ]
    }
   ],
   "source": [
    "muj_list = [5, 1.2, \"písmenko\"]\n",
    "print(id(muj_list))\n",
    "print(muj_list)\n",
    "muj_list[0] = 2\n",
    "print(id(muj_list))\n",
    "print(muj_list) # ať tam cokoliv změním, zůstane to na stejné adrese\n"
   ]
  },
  {
   "attachments": {},
   "cell_type": "markdown",
   "metadata": {},
   "source": [
    "Měnitelnost listu (a dalších měnitělných typů) může být poněkud záludná, pokud nevíme jak se přesně chová."
   ]
  },
  {
   "cell_type": "code",
   "execution_count": 27,
   "metadata": {},
   "outputs": [
    {
     "name": "stdout",
     "output_type": "stream",
     "text": [
      "[5, 1.2, 'písmenko']\n",
      "[5, 1.2]\n",
      "[5, 1.2, 'písmenko']\n",
      "[2, 1.2]\n"
     ]
    }
   ],
   "source": [
    "muj_list = [5, 1.2, \"písmenko\"]\n",
    "muj_list2 = muj_list[0:2]\n",
    "print(muj_list)\n",
    "print(muj_list2)\n",
    "\n",
    "muj_list2[0] = 2 # i kdyz zmenim pouze jeden list, zmeni se i druhy, protoze jsou na stejnem miste v pameti viz niz\n",
    "# pokud vezmu jen cast puvodniho listu, vytvori se kopie, ktera uz bude mit vlastni misto v pamet, pokud budou nemenneho typu\n",
    "print(muj_list)\n",
    "print(muj_list2)\n",
    "# operátor = pro měnné typy pouze kopíruje referenci na objekt!"
   ]
  },
  {
   "cell_type": "code",
   "execution_count": 30,
   "metadata": {},
   "outputs": [
    {
     "name": "stdout",
     "output_type": "stream",
     "text": [
      "139650978038912\n",
      "139650978038912\n"
     ]
    }
   ],
   "source": [
    "print(id(muj_list))\n",
    "print(id(muj_list2))"
   ]
  },
  {
   "cell_type": "code",
   "execution_count": 33,
   "metadata": {},
   "outputs": [
    {
     "name": "stdout",
     "output_type": "stream",
     "text": [
      "[5, 1.2, 'písmenko']\n",
      "[5, 1.2, 'písmenko']\n",
      "[2, 1.2, 'písmenko']\n",
      "[2, 1.2, 'písmenko']\n"
     ]
    }
   ],
   "source": [
    "muj_list = [5, 1.2, \"písmenko\"]\n",
    "muj_list2 = muj_list\n",
    "print(muj_list)\n",
    "print(muj_list2)\n",
    "\n",
    "muj_list2[0] = 2  # i kdyz zmenim pouze jeden list, zmeni se i druhy, protoze jsou na stejnem miste v pameti viz niz\n",
    "# pokud vezmu jen cast puvodniho listu, vytvori se kopie, ktera uz bude\n",
    "# mit vlastni misto v pamet, pokud budou nemenneho typu\n",
    "print(muj_list)\n",
    "print(muj_list2)\n",
    "# operátor = pro měnné typy pouze kopíruje referenci na objekt!"
   ]
  },
  {
   "cell_type": "code",
   "execution_count": 31,
   "metadata": {},
   "outputs": [
    {
     "name": "stdout",
     "output_type": "stream",
     "text": [
      "139650978038912\n",
      "139650978038912\n"
     ]
    }
   ],
   "source": [
    "print(id(muj_list))\n",
    "print(id(muj_list2))"
   ]
  },
  {
   "cell_type": "code",
   "execution_count": 35,
   "metadata": {},
   "outputs": [
    {
     "name": "stdout",
     "output_type": "stream",
     "text": [
      "[[1, 2], 1.2, 'písmenko']\n",
      "[[1, 2], 1.2]\n",
      "[[2, 2], 1.2, 'písmenko']\n",
      "[[2, 2], 1.2]\n"
     ]
    }
   ],
   "source": [
    "muj_list = [[1,2], 1.2, \"písmenko\"]\n",
    "muj_list2 = muj_list[0:2]\n",
    "print(muj_list)\n",
    "print(muj_list2)\n",
    "\n",
    "muj_list2[0] [0]= 2  # i kdyz zmenim pouze jeden list, zmeni se i druhy, protoze jsou na stejnem miste v pameti viz niz\n",
    "# pokud vezmu jen cast puvodniho listu, vytvori se kopie, ktera uz bude\n",
    "# mit vlastni misto v pamet, pokud budou nemenneho typu\n",
    "print(muj_list)\n",
    "print(muj_list2)\n",
    "# operátor = pro měnné typy pouze kopíruje referenci na objekt!"
   ]
  },
  {
   "cell_type": "code",
   "execution_count": 36,
   "metadata": {},
   "outputs": [
    {
     "name": "stdout",
     "output_type": "stream",
     "text": [
      "139653213049472\n",
      "139650976529088\n"
     ]
    }
   ],
   "source": [
    "print(id(muj_list))\n",
    "print(id(muj_list2))"
   ]
  },
  {
   "attachments": {},
   "cell_type": "markdown",
   "metadata": {},
   "source": [
    "Pokud chceme mít v proměnné `muj_list2` stejné hodnoty ale né stejnou instanci hodnot, můžeme použít `muj_list2 = muj_list[:]` nebo `muj_list2 = muj_list.copy()`."
   ]
  },
  {
   "cell_type": "code",
   "execution_count": 37,
   "metadata": {},
   "outputs": [
    {
     "name": "stdout",
     "output_type": "stream",
     "text": [
      "[5, 1.2, 'písmenko']\n",
      "[5, 1.2, 'písmenko']\n",
      "[5, 1.2, 'písmenko']\n",
      "[2, 1.2, 'písmenko']\n",
      "139650976179200\n",
      "139650976178624\n"
     ]
    }
   ],
   "source": [
    "# ukázka s .copy()\n",
    "muj_list = [5, 1.2, \"písmenko\"]\n",
    "muj_list2 = muj_list.copy()\n",
    "print(muj_list)\n",
    "print(muj_list2)\n",
    "\n",
    "muj_list2[0] = 2\n",
    "print(muj_list)\n",
    "print(muj_list2)\n",
    "# operátor .copy() vytvoří nový objekt\n",
    "\n",
    "print(id(muj_list))\n",
    "print(id(muj_list2))"
   ]
  },
  {
   "attachments": {},
   "cell_type": "markdown",
   "metadata": {},
   "source": [
    "Aby to nebylo tak jednoduché, představme si zanořené listy:"
   ]
  },
  {
   "cell_type": "code",
   "execution_count": 38,
   "metadata": {},
   "outputs": [
    {
     "name": "stdout",
     "output_type": "stream",
     "text": [
      "[5, 1.2, 'písmenko', [1, 2, 3]]\n",
      "[5, 1.2, 'písmenko', [1, 2, 3]]\n",
      "[5, 1.2, 'písmenko', [2, 2, 3]]\n",
      "[2, 1.2, 'písmenko', [2, 2, 3]]\n",
      "139650976564544\n",
      "139650976529088\n"
     ]
    }
   ],
   "source": [
    "# zanořené listy s .copy()\n",
    "muj_list = [5, 1.2, \"písmenko\", [1, 2, 3]]\n",
    "muj_list2 = muj_list.copy()\n",
    "print(muj_list)\n",
    "print(muj_list2)\n",
    "\n",
    "muj_list2[3][0] = 2\n",
    "muj_list2[0] = 2\n",
    "print(muj_list)\n",
    "print(muj_list2)\n",
    "# operátor .copy() vytvoří nový objekt, ale zanořené listy jsou stejné!\n",
    "\n",
    "print(id(muj_list))\n",
    "print(id(muj_list2))"
   ]
  },
  {
   "attachments": {},
   "cell_type": "markdown",
   "metadata": {},
   "source": [
    "Pokud bychom chtěli toto chování obejít, existuje funkce `deepcopy()` z modulu `copy`."
   ]
  },
  {
   "cell_type": "code",
   "execution_count": 41,
   "metadata": {},
   "outputs": [
    {
     "name": "stdout",
     "output_type": "stream",
     "text": [
      "[5, 1.2, 'písmenko', [1, 2, 3]]\n",
      "[5, 1.2, 'písmenko', [1, 2, 3]]\n",
      "[5, 1.2, 'písmenko', [1, 2, 3]]\n",
      "[2, 1.2, 'písmenko', [2, 2, 3]]\n",
      "139650976304704\n",
      "139650976178496\n"
     ]
    }
   ],
   "source": [
    "# zanořené listy s .deepcopy()\n",
    "import copy\n",
    "muj_list = [5, 1.2, \"písmenko\", [1, 2, 3]]\n",
    "muj_list2 = copy.deepcopy(muj_list)\n",
    "print(muj_list)\n",
    "print(muj_list2)\n",
    "\n",
    "muj_list2[3][0] = 2\n",
    "muj_list2[0] = 2\n",
    "print(muj_list)\n",
    "print(muj_list2)\n",
    "# operátor .deepcopy() vytvoří nový objekt i pro zanořené listy!\n",
    "\n",
    "print(id(muj_list))\n",
    "print(id(muj_list2))"
   ]
  },
  {
   "attachments": {},
   "cell_type": "markdown",
   "metadata": {},
   "source": [
    "Nachvíli zpátky k `tuple`.\n",
    "\n",
    "Tuple je sice neměnný, ale lze do něj vložit list, který lze měnit. Toto je však poměrně nešikovné, neboť ztrácíme výhodu neměnnosti tuple jako celku."
   ]
  },
  {
   "cell_type": "code",
   "execution_count": 42,
   "metadata": {},
   "outputs": [],
   "source": [
    "muj_touple = (5, 1.2, \"písmenko\", [1, 2, 3])\n",
    "muj_touple[3][1] = 5"
   ]
  },
  {
   "attachments": {},
   "cell_type": "markdown",
   "metadata": {},
   "source": [
    "#### Slicing\n",
    "List můžeme indexovat pomocí tzv. slicingu. Slicing je zápis, kterým se získává podseznam z původního seznamu. Zápis je následující: `seznam[od:do:krok]`. Pokud je `od` vynecháno, začínáme od začátku seznamu. Pokud je `do` vynecháno, končíme na konci seznamu. Pokud je `krok` vynechán, je roven 1.\n",
    "\n",
    "Slice (`od:do:krok`) je také objekt, jako v Pythonu všechno.\n"
   ]
  },
  {
   "cell_type": "code",
   "execution_count": 43,
   "metadata": {},
   "outputs": [
    {
     "name": "stdout",
     "output_type": "stream",
     "text": [
      "[1, 2, 3, 4, 5, 6, 7, 8, 9, 10]\n",
      "[3, 4, 5, 6, 7, 8, 9, 10]\n",
      "[1, 2, 3, 4, 5, 6]\n",
      "[1, 3, 5, 7, 9]\n",
      "[2, 5]\n",
      "<class 'slice'>\n",
      "[2, 5]\n"
     ]
    }
   ],
   "source": [
    "muj_list = [1, 2, 3, 4, 5, 6, 7, 8, 9, 10]\n",
    "\n",
    "print(muj_list[::])\n",
    "print(muj_list[2::])\n",
    "print(muj_list[:6:])\n",
    "print(muj_list[::2])\n",
    "print(muj_list[1:7:3])\n",
    "muj_slice = slice(1, 7, 3)\n",
    "print(type(muj_slice))\n",
    "print(muj_list[muj_slice])\n"
   ]
  },
  {
   "cell_type": "markdown",
   "metadata": {},
   "source": [
    "Lze také použít záporné indexy, které počítají od konce seznamu. Tedy `-1` je poslední prvek seznamu, `-2` předposlední, atd.\n",
    "\n",
    "Záporný krok znamená, že se slice prochází v opačném směru."
   ]
  },
  {
   "cell_type": "code",
   "execution_count": 44,
   "metadata": {},
   "outputs": [
    {
     "name": "stdout",
     "output_type": "stream",
     "text": [
      "[1, 2, 3, 4, 5, 6, 7]\n",
      "[6, 7, 8, 9, 10]\n",
      "[]\n",
      "[10, 9, 8, 7, 6, 5, 4, 3, 2, 1]\n",
      "[9, 8, 7, 6, 5, 4, 3, 2]\n"
     ]
    }
   ],
   "source": [
    "print(muj_list[:-3:])\n",
    "print(muj_list[-5::])\n",
    "print(muj_list[0:9:-1])\n",
    "print(muj_list[::-1])\n",
    "print(muj_list[8:0:-1])"
   ]
  },
  {
   "attachments": {},
   "cell_type": "markdown",
   "metadata": {},
   "source": [
    "### Set\n",
    "Set je množina prvků, která je nečíslovaná a lze do ní vkládat pouze neměnitelné typy. Pokud se pokusíme do setu vložit měnitelný typ, vyvolá se chyba."
   ]
  },
  {
   "cell_type": "code",
   "execution_count": 47,
   "metadata": {},
   "outputs": [
    {
     "name": "stdout",
     "output_type": "stream",
     "text": [
      "<class 'set'>\n",
      "{0, 'a', 5.1}\n",
      "{0, 1.2, 'a', 5.1}\n",
      "{1.2, 'a', 5.1}\n",
      "{0, 1, 5.1, 'b', 'a'}\n",
      "{'a', 5.1}\n",
      "2\n"
     ]
    }
   ],
   "source": [
    "muj_set = {\"a\", 0 , 5.1} # nelze pridvat duplicitni prvky, kdyz vlozim 10* 1 tak tam stale bude jen jedna\n",
    "print(type(muj_set))\n",
    "print(muj_set)\n",
    "muj_set.add(0)\n",
    "muj_set.add(1.2)\n",
    "print(muj_set)\n",
    "muj_set.remove(0)\n",
    "print(muj_set)\n",
    "\n",
    "muj_set1 = {\"a\", 0, 5.1}\n",
    "muj_set2 = {\"b\", \"a\", 1, 5.1}\n",
    "print(muj_set1 | muj_set2) #sjednoceni\n",
    "print(muj_set1 & muj_set2) # prunik\n",
    "print(len(muj_set1 & muj_set2)) "
   ]
  },
  {
   "cell_type": "code",
   "execution_count": null,
   "metadata": {},
   "outputs": [],
   "source": [
    "# chyba pokud do setu pridame list\n",
    "# muj_set = {\"a\", 0 , 5.1, [1, 2, 3]}"
   ]
  },
  {
   "attachments": {},
   "cell_type": "markdown",
   "metadata": {},
   "source": [
    "### Dictionary\n",
    "Slovník je množina prvků organizovaná dle klíče. Klíč může být jakýkoliv neměnitelný typ (zde se může hodit neměnitelnost tuple). Hodnoty mohou být jakékoliv typy."
   ]
  },
  {
   "cell_type": "code",
   "execution_count": 40,
   "metadata": {},
   "outputs": [
    {
     "name": "stdout",
     "output_type": "stream",
     "text": [
      "<class 'dict'>\n",
      "{1: 'prvek 1', '2': 0, (0, 'a'): [1, 'ahoj']}\n",
      "dict_keys([1, '2', (0, 'a')])\n",
      "dict_values(['prvek 1', 0, [1, 'ahoj']])\n",
      "dict_items([(1, 'prvek 1'), ('2', 0), ((0, 'a'), [1, 'ahoj'])])\n",
      "[1, 'ahoj']\n",
      "prvek 1\n",
      "prvek 1\n",
      "0\n",
      "3\n"
     ]
    }
   ],
   "source": [
    "muj_slovnik = {1: \"prvek 1\", \"2\": 0, (0, \"a\"):[1, \"ahoj\"]}\n",
    "\n",
    "print(type(muj_slovnik))\n",
    "print(muj_slovnik)\n",
    "\n",
    "print(muj_slovnik.keys())\n",
    "print(muj_slovnik.values())\n",
    "print(muj_slovnik.items())\n",
    "\n",
    "print(muj_slovnik[(0, \"a\")])\n",
    "print(muj_slovnik[1])\n",
    "\n",
    "print(muj_slovnik.get(1))\n",
    "# pokud klic neexistuje, vraci None, pozor na rozdíl oproti přístupu přes []\n",
    "print(muj_slovnik.get(2))\n",
    "print(len(muj_slovnik))"
   ]
  },
  {
   "cell_type": "code",
   "execution_count": 48,
   "metadata": {},
   "outputs": [
    {
     "name": "stdout",
     "output_type": "stream",
     "text": [
      "{1: 'prvek 1', '2': 0, (0, 'a'): [1, 'ahoj']}\n",
      "{1: 'prvek 1', '2': 0, (0, 'a'): 0}\n"
     ]
    }
   ],
   "source": [
    "print(muj_slovnik) # prepis prvku\n",
    "muj_slovnik[(0,\"a\")]=0\n",
    "print(muj_slovnik)"
   ]
  },
  {
   "cell_type": "code",
   "execution_count": null,
   "metadata": {},
   "outputs": [],
   "source": [
    "# když se pokusíme o přístup k neexistujícímu klíči, tak dostaneme chybu\n",
    "# print(muj_slovnik[2])"
   ]
  },
  {
   "attachments": {},
   "cell_type": "markdown",
   "metadata": {},
   "source": [
    "## Konverze mezi typy\n",
    "V Pythonu se nejedná o \"skutečnou\" konverzi, ale o vytvoření nové instance daného typu s hodnotou z předchozího typu. Níže vypsané funkce jsou tzv. konstruktory daného typu (objektu).\n",
    "- `int()` - převede argument na celé číslo\n",
    "- `float()` - převede argument na desetinné číslo\n",
    "- `bool()` - převede argument na logickou hodnotu\n",
    "- `str()` - převede argument na řetězec\n",
    "- `tuple()` - převede argument na tuple\n",
    "- `list()` - převede argument na list\n",
    "- `set()` - převede argument na set"
   ]
  },
  {
   "cell_type": "code",
   "execution_count": 49,
   "metadata": {},
   "outputs": [
    {
     "name": "stdout",
     "output_type": "stream",
     "text": [
      "5\n",
      "<class 'int'>\n",
      "5.0\n",
      "<class 'float'>\n",
      "5\n",
      "<class 'str'>\n"
     ]
    }
   ],
   "source": [
    "# příklady přetypování\n",
    "x = 5\n",
    "print(x)\n",
    "print(type(x))\n",
    "y = float(x)\n",
    "print(y)\n",
    "print(type(y))\n",
    "z = str(x)\n",
    "print(z)\n",
    "print(type(z))\n"
   ]
  },
  {
   "cell_type": "code",
   "execution_count": 52,
   "metadata": {},
   "outputs": [
    {
     "name": "stdout",
     "output_type": "stream",
     "text": [
      "5\n",
      "<class 'str'>\n",
      "5.0\n",
      "<class 'float'>\n",
      "5\n",
      "<class 'int'>\n"
     ]
    }
   ],
   "source": [
    "x = \"5\"\n",
    "print(x)\n",
    "print(type(x))\n",
    "y = float(x)\n",
    "print(y)\n",
    "print(type(y))\n",
    "z = int(x)\n",
    "print(z)\n",
    "print(type(z))"
   ]
  },
  {
   "cell_type": "code",
   "execution_count": 51,
   "metadata": {},
   "outputs": [
    {
     "name": "stdout",
     "output_type": "stream",
     "text": [
      "[1, 2, 3]\n",
      "{1, 2, 3}\n"
     ]
    }
   ],
   "source": [
    "a = (1, 2, 3)\n",
    "print(list(a))\n",
    "print(set(a))"
   ]
  }
 ],
 "metadata": {
  "kernelspec": {
   "display_name": "Python 3",
   "language": "python",
   "name": "python3"
  },
  "language_info": {
   "codemirror_mode": {
    "name": "ipython",
    "version": 3
   },
   "file_extension": ".py",
   "mimetype": "text/x-python",
   "name": "python",
   "nbconvert_exporter": "python",
   "pygments_lexer": "ipython3",
   "version": "3.10.12"
  },
  "orig_nbformat": 4,
  "vscode": {
   "interpreter": {
    "hash": "e7370f93d1d0cde622a1f8e1c04877d8463912d04d973331ad4851f04de6915a"
   }
  }
 },
 "nbformat": 4,
 "nbformat_minor": 2
}
