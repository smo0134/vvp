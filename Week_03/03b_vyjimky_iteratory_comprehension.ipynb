{
 "cells": [
  {
   "cell_type": "markdown",
   "metadata": {},
   "source": [
    "# Výjimky a chyby\n",
    "Chyby v Pythonu můžeme rozlišit na *syntaktické chyby* a *chyby za běhu* (*run-time*). Syntaktické chyby jsou způsobeny např. nespárovanými závorkami, špatným odsazením apod. Program se syntaktickými chybami nelze vůbec spustit. Častější jsou run-time chyby, které vznikají nesprávným použitím nějaké funkce, chybějícími daty apod. Jelikož je Python interpretovaný jazyk, většina chyb se ukáže až za běhu, na rozdíl od kompilovaných jazyků, kde se mnoho chyb objeví při kompilaci.\n",
    "<!-- TEASER_END -->\n",
    "\n",
    "## Výjimky\n",
    "\n",
    "Výjimka (*exception*) je vyhozena ve chvíli, kdy dojde k chybě (respektivě ve chvíli kdy autor funkce kterou používáme považuje naše užití za chybné :-)). Pokud tuto výjimku nezachytíme (viz dále), běh programu se přeruší. Např. dělení nulou skončí výjimkou `ZeroDivisionError`:\n",
    "\n",
    "### Chytáme výjimky\n",
    "Pokud nechceme, aby běh programu skončil ve chvíli výjimky, můžeme použít `try` - `except` blok. Ten funguje tak, že rizikovou část kód umístíme do `try` bloku, do `except` bloku pak umístíme instrukce pro případ chyby (výjimky)."
   ]
  },
  {
   "cell_type": "code",
   "execution_count": 3,
   "metadata": {},
   "outputs": [
    {
     "name": "stdout",
     "output_type": "stream",
     "text": [
      "Nelze dělit nulou!\n",
      "0.5\n"
     ]
    },
    {
     "ename": "ZeroDivisionError",
     "evalue": "division by zero",
     "output_type": "error",
     "traceback": [
      "\u001b[0;31m---------------------------------------------------------------------------\u001b[0m",
      "\u001b[0;31mZeroDivisionError\u001b[0m                         Traceback (most recent call last)",
      "Cell \u001b[0;32mIn[3], line 14\u001b[0m\n\u001b[1;32m     12\u001b[0m \u001b[38;5;28mprint\u001b[39m(deleni_upravene(\u001b[38;5;241m1\u001b[39m, \u001b[38;5;241m0\u001b[39m))\n\u001b[1;32m     13\u001b[0m \u001b[38;5;28mprint\u001b[39m(deleni_upravene(\u001b[38;5;241m1\u001b[39m, \u001b[38;5;241m2\u001b[39m))\n\u001b[0;32m---> 14\u001b[0m \u001b[38;5;28mprint\u001b[39m(\u001b[43mdeleni\u001b[49m\u001b[43m(\u001b[49m\u001b[38;5;241;43m1\u001b[39;49m\u001b[43m,\u001b[49m\u001b[43m \u001b[49m\u001b[38;5;241;43m0\u001b[39;49m\u001b[43m)\u001b[49m)\n",
      "Cell \u001b[0;32mIn[3], line 4\u001b[0m, in \u001b[0;36mdeleni\u001b[0;34m(a, b)\u001b[0m\n\u001b[1;32m      3\u001b[0m \u001b[38;5;28;01mdef\u001b[39;00m \u001b[38;5;21mdeleni\u001b[39m(a, b):\n\u001b[0;32m----> 4\u001b[0m     \u001b[38;5;28;01mreturn\u001b[39;00m \u001b[43ma\u001b[49m\u001b[43m \u001b[49m\u001b[38;5;241;43m/\u001b[39;49m\u001b[43m \u001b[49m\u001b[43mb\u001b[49m\n",
      "\u001b[0;31mZeroDivisionError\u001b[0m: division by zero"
     ]
    }
   ],
   "source": [
    "# ukázka try/except\n",
    "\n",
    "def deleni(a, b):\n",
    "    return a / b\n",
    "\n",
    "def deleni_upravene(a, b):\n",
    "    try:\n",
    "        return a / b\n",
    "    except ZeroDivisionError:\n",
    "        return \"Nelze dělit nulou!\"\n",
    "    \n",
    "print(deleni_upravene(1, 0))\n",
    "print(deleni_upravene(1, 2))\n",
    "print(deleni(1, 0))"
   ]
  },
  {
   "cell_type": "markdown",
   "metadata": {},
   "source": [
    "`except` lze také použít bez specifikace typu výjimky, v tom případě se zachytí všechny výjimky. Toto ale není dobrá praxe, protože vlastně nevíme jaký typ chyby \"obcházíme\".\n",
    "\n",
    "Kompletní try-except blok může ještě obsahovat `else` a `finally` bloky, viz [dokumentace](http://docs.python.org/3/reference/compound_stmts.html#try). `finally` se hodí zejména pro \"úklid\", např. zavření souboru apod."
   ]
  },
  {
   "cell_type": "code",
   "execution_count": 4,
   "metadata": {},
   "outputs": [
    {
     "name": "stdout",
     "output_type": "stream",
     "text": [
      "Nastala nějaká chyba, nestarám se o to jaká.\n",
      "Toto se vždy provede.\n"
     ]
    }
   ],
   "source": [
    "# kopletní try/except/else/finally\n",
    "a = 1\n",
    "b = 0\n",
    "try:\n",
    "    c = a / b\n",
    "except:\n",
    "    print(\"Nastala nějaká chyba, nestarám se o to jaká.\")\n",
    "else:\n",
    "    print(\"Všechno v pořádku.\")\n",
    "finally:\n",
    "    print(\"Toto se vždy provede.\")"
   ]
  },
  {
   "cell_type": "markdown",
   "metadata": {},
   "source": [
    "Pomocí modulu traceback si můžeme nechat vypsat podrobnější informace jak k vyjímce došlo, to se může hodit při ladění."
   ]
  },
  {
   "cell_type": "code",
   "execution_count": 5,
   "metadata": {},
   "outputs": [
    {
     "name": "stdout",
     "output_type": "stream",
     "text": [
      "Nastala nějaká chyba, nestarám se o to jaká.\n",
      "Toto se vždy provede.\n",
      "A stale jedeme dál.\n"
     ]
    },
    {
     "name": "stderr",
     "output_type": "stream",
     "text": [
      "Traceback (most recent call last):\n",
      "  File \"/tmp/ipykernel_4120/1295279126.py\", line 6, in <module>\n",
      "    c = a / b\n",
      "ZeroDivisionError: division by zero\n"
     ]
    }
   ],
   "source": [
    "import traceback\n",
    "\n",
    "a = 1\n",
    "b = 0\n",
    "try:\n",
    "    c = a / b\n",
    "except:\n",
    "    print(\"Nastala nějaká chyba, nestarám se o to jaká.\")\n",
    "    traceback.print_exc() # dá se nastavit na výstup do souboru\n",
    "else:\n",
    "    print(\"Všechno v pořádku.\")\n",
    "finally:\n",
    "    print(\"Toto se vždy provede.\")\n",
    "\n",
    "print(\"A stale jedeme dál.\")\n"
   ]
  },
  {
   "cell_type": "markdown",
   "metadata": {},
   "source": [
    "### Vytváříme vlastní výjimky\n",
    "Výjimku můžeme samozřejmě vyhodit i v našem kódu pomocí klíčového slova `raise`. Pokud bychom chtěli např. kontrolovat vstup nějaké funkce, uděláme to takto:"
   ]
  },
  {
   "cell_type": "code",
   "execution_count": 6,
   "metadata": {},
   "outputs": [
    {
     "name": "stdout",
     "output_type": "stream",
     "text": [
      "Zaplatil jsem 50 Kč.\n"
     ]
    },
    {
     "ename": "ValueError",
     "evalue": "Cena je moc vysoká!",
     "output_type": "error",
     "traceback": [
      "\u001b[0;31m---------------------------------------------------------------------------\u001b[0m",
      "\u001b[0;31mValueError\u001b[0m                                Traceback (most recent call last)",
      "Cell \u001b[0;32mIn[6], line 9\u001b[0m\n\u001b[1;32m      6\u001b[0m         \u001b[38;5;28mprint\u001b[39m(\u001b[38;5;124m\"\u001b[39m\u001b[38;5;124mZaplatil jsem\u001b[39m\u001b[38;5;124m\"\u001b[39m, cena, \u001b[38;5;124m\"\u001b[39m\u001b[38;5;124mKč.\u001b[39m\u001b[38;5;124m\"\u001b[39m)\n\u001b[1;32m      8\u001b[0m zaplatit(\u001b[38;5;241m50\u001b[39m)\n\u001b[0;32m----> 9\u001b[0m \u001b[43mzaplatit\u001b[49m\u001b[43m(\u001b[49m\u001b[38;5;241;43m150\u001b[39;49m\u001b[43m)\u001b[49m\n",
      "Cell \u001b[0;32mIn[6], line 4\u001b[0m, in \u001b[0;36mzaplatit\u001b[0;34m(cena)\u001b[0m\n\u001b[1;32m      2\u001b[0m \u001b[38;5;28;01mdef\u001b[39;00m \u001b[38;5;21mzaplatit\u001b[39m(cena):\n\u001b[1;32m      3\u001b[0m     \u001b[38;5;28;01mif\u001b[39;00m cena \u001b[38;5;241m>\u001b[39m \u001b[38;5;241m100\u001b[39m:\n\u001b[0;32m----> 4\u001b[0m         \u001b[38;5;28;01mraise\u001b[39;00m \u001b[38;5;167;01mValueError\u001b[39;00m(\u001b[38;5;124m\"\u001b[39m\u001b[38;5;124mCena je moc vysoká!\u001b[39m\u001b[38;5;124m\"\u001b[39m)\n\u001b[1;32m      5\u001b[0m     \u001b[38;5;28;01melse\u001b[39;00m:\n\u001b[1;32m      6\u001b[0m         \u001b[38;5;28mprint\u001b[39m(\u001b[38;5;124m\"\u001b[39m\u001b[38;5;124mZaplatil jsem\u001b[39m\u001b[38;5;124m\"\u001b[39m, cena, \u001b[38;5;124m\"\u001b[39m\u001b[38;5;124mKč.\u001b[39m\u001b[38;5;124m\"\u001b[39m)\n",
      "\u001b[0;31mValueError\u001b[0m: Cena je moc vysoká!"
     ]
    }
   ],
   "source": [
    "# ukázka raise\n",
    "def zaplatit(cena):\n",
    "    if cena > 100:\n",
    "        raise ValueError(\"Cena je moc vysoká!\")\n",
    "    else:\n",
    "        print(\"Zaplatil jsem\", cena, \"Kč.\")\n",
    "        \n",
    "zaplatit(50)\n",
    "zaplatit(150)"
   ]
  },
  {
   "cell_type": "markdown",
   "metadata": {},
   "source": [
    "# Generátory a iterátory\n",
    "Abychom se v tomto tématu lépe zorientovali, začneme s rozčleněním. Budeme používat tyto tři termíny:\n",
    "- `iterable` (iterovatelný objekt) - objekt, který umí vracet své prvky jeden po druhém\n",
    "    - kontejnery (list, slovník, ...)\n",
    "    - řetězec\n",
    "    - range\n",
    "    - objekt typu stream (např. `file`)\n",
    "- `iterator` (iterátor) - objekt, který umí iterovat (implementuje tzv. protokol iterátoru). Lze vytvořít z iterovatelného objektu pomocí funkce `iter()`.\n",
    "    - metoda `__iter__` vrací samotný objekt\n",
    "    - metoda `__next__` vrací další prvek (na konci vyhodí výjimku `StopIteration`)\n",
    "- `generator` (generátor) - je typ iterátoru. Má dvě varianty:\n",
    "    - generátor funkce - funkce, která vrací výstupy postupně pomocí `yield` místo `return`\n",
    "    - generátor výraz - výraz využívající syntaxe: **(**`výraz` **for** `proměnná` **in** `iterovatelný_objekt` **if** `podmínka`**)**\n",
    "\n",
    "\n",
    "  Pěkné vysvětlení lze najít i zde: [Iterables vs. Iterators vs. Generators](http://nvie.com/posts/iterators-vs-generators/)"
   ]
  },
  {
   "cell_type": "code",
   "execution_count": 7,
   "metadata": {},
   "outputs": [
    {
     "name": "stdout",
     "output_type": "stream",
     "text": [
      "<list_iterator object at 0x7fed103da560>\n",
      "<str_iterator object at 0x7fed103d8070>\n"
     ]
    }
   ],
   "source": [
    "# ukázka iterable objektů\n",
    "muj_list = [1, 2, 3, 4, 5]\n",
    "muj_string = \"ahoj\"\n",
    "muj_double = 1.5\n",
    "print(iter(muj_list))\n",
    "print(iter(muj_string))\n",
    "# print(iter(muj_double))  # tohle skončí chybou"
   ]
  },
  {
   "cell_type": "code",
   "execution_count": 10,
   "metadata": {},
   "outputs": [
    {
     "name": "stdout",
     "output_type": "stream",
     "text": [
      "<list_iterator object at 0x7fed10088a00>\n",
      "1\n",
      "2\n",
      "3\n",
      "4\n",
      "5\n"
     ]
    },
    {
     "ename": "StopIteration",
     "evalue": "",
     "output_type": "error",
     "traceback": [
      "\u001b[0;31m---------------------------------------------------------------------------\u001b[0m",
      "\u001b[0;31mStopIteration\u001b[0m                             Traceback (most recent call last)",
      "Cell \u001b[0;32mIn[10], line 10\u001b[0m\n\u001b[1;32m      8\u001b[0m \u001b[38;5;28mprint\u001b[39m(muj_iterator\u001b[38;5;241m.\u001b[39m\u001b[38;5;21m__next__\u001b[39m())\n\u001b[1;32m      9\u001b[0m \u001b[38;5;28mprint\u001b[39m(\u001b[38;5;28mnext\u001b[39m(muj_iterator))\n\u001b[0;32m---> 10\u001b[0m \u001b[38;5;28mprint\u001b[39m(\u001b[38;5;28;43mnext\u001b[39;49m\u001b[43m(\u001b[49m\u001b[43mmuj_iterator\u001b[49m\u001b[43m)\u001b[49m)\n",
      "\u001b[0;31mStopIteration\u001b[0m: "
     ]
    }
   ],
   "source": [
    "# ukázka iterátorů\n",
    "muj_list = [1, 2, 3, 4, 5]\n",
    "muj_iterator = iter(muj_list)\n",
    "print(muj_iterator.__iter__())\n",
    "print(muj_iterator.__next__())\n",
    "print(next(muj_iterator))\n",
    "print(next(muj_iterator))\n",
    "print(muj_iterator.__next__())\n",
    "print(next(muj_iterator))\n",
    "print(next(muj_iterator))"
   ]
  },
  {
   "cell_type": "code",
   "execution_count": 11,
   "metadata": {},
   "outputs": [
    {
     "name": "stdout",
     "output_type": "stream",
     "text": [
      "<generator object generator1 at 0x7fed103619a0>\n",
      "Ahoj\n",
      "světe\n",
      "jak\n",
      "se\n",
      "máš?\n",
      "Generátor <generator object generator1 at 0x7fed103619a0> vyčerpal všechny hodnoty.\n",
      "<generator object generator2 at 0x7fed10361c40>\n",
      "A tohle je další iterace!\n",
      "1\n",
      "A tohle je další iterace!\n",
      "2\n",
      "A tohle je další iterace!\n",
      "3\n",
      "A tohle je další iterace!\n",
      "4\n",
      "A tohle je další iterace!\n",
      "5\n",
      "Generátor <generator object generator2 at 0x7fed10361c40> vyčerpal všechny hodnoty.\n"
     ]
    }
   ],
   "source": [
    "# generator funkce\n",
    "def generator1():\n",
    "    yield \"Ahoj\"\n",
    "    yield \"světe\"\n",
    "    yield \"jak\"\n",
    "    yield \"se\"\n",
    "    yield \"máš?\"\n",
    "\n",
    "\n",
    "def generator2(start, konec):\n",
    "    for i in range(start, konec):\n",
    "        print(\"A tohle je další iterace!\")\n",
    "        yield i\n",
    "\n",
    "# ukázka použití generátoru\n",
    "gen1 = generator1()\n",
    "print(gen1)\n",
    "print(next(gen1))\n",
    "print(next(gen1))\n",
    "print(next(gen1))\n",
    "print(next(gen1))\n",
    "print(next(gen1))\n",
    "try:\n",
    "    print(next(gen1))\n",
    "except StopIteration:\n",
    "    print(f\"Generátor {gen1} vyčerpal všechny hodnoty.\")\n",
    "    \n",
    "gen2 = generator2(1, 6)\n",
    "print(gen2)\n",
    "print(next(gen2))\n",
    "print(next(gen2))\n",
    "print(next(gen2))\n",
    "print(next(gen2))\n",
    "print(next(gen2))\n",
    "try:\n",
    "    print(next(gen2))\n",
    "except StopIteration:\n",
    "    print(f\"Generátor {gen2} vyčerpal všechny hodnoty.\")\n"
   ]
  },
  {
   "cell_type": "code",
   "execution_count": 12,
   "metadata": {},
   "outputs": [
    {
     "name": "stdout",
     "output_type": "stream",
     "text": [
      "<generator object <genexpr> at 0x7fed10362340>\n",
      "1\n",
      "2\n",
      "3\n",
      "4\n",
      "5\n",
      "Generátor <generator object <genexpr> at 0x7fed10362340> vyčerpal všechny hodnoty.\n"
     ]
    }
   ],
   "source": [
    "# generatorový výraz\n",
    "gen3 = (i for i in range(1, 6))\n",
    "print(gen3)\n",
    "print(next(gen3))\n",
    "print(next(gen3))\n",
    "print(next(gen3))\n",
    "print(next(gen3))\n",
    "print(next(gen3))\n",
    "try:\n",
    "    print(next(gen3))\n",
    "except StopIteration:\n",
    "    print(f\"Generátor {gen3} vyčerpal všechny hodnoty.\")"
   ]
  },
  {
   "cell_type": "code",
   "execution_count": 13,
   "metadata": {},
   "outputs": [
    {
     "name": "stdout",
     "output_type": "stream",
     "text": [
      "<generator object <genexpr> at 0x7fed103631b0>\n",
      "2\n",
      "4\n",
      "6\n",
      "Generátor <generator object <genexpr> at 0x7fed103631b0> vyčerpal všechny hodnoty.\n"
     ]
    }
   ],
   "source": [
    "# generatorový výraz s podmínkou\n",
    "gen4 = (i for i in range(1, 8) if i % 2 == 0)\n",
    "print(gen4)\n",
    "print(next(gen4))\n",
    "print(next(gen4))\n",
    "print(next(gen4))\n",
    "try:\n",
    "    print(next(gen4))\n",
    "except StopIteration:\n",
    "    print(f\"Generátor {gen4} vyčerpal všechny hodnoty.\")"
   ]
  },
  {
   "cell_type": "markdown",
   "metadata": {},
   "source": [
    "# List/Set/Dict comprehensions\n",
    "List/Set/Dict comprehensions jsou způsob, jak vytvořit seznam, množinu nebo slovník pomocí jednoho řádku kódu. Všechny tyto konstrukce jsou velmi podobné jako generator výrazy.\n",
    "- List comprehension - vytvoří seznam, syntaxe: **[**`výraz` **for** `proměnná` **in** `iterovatelný_objekt` **if** `podmínka`**]**\n",
    "- Set comprehension - vytvoří množinu, syntaxe: **{**`výraz` **for** `proměnná` **in** `iterovatelný_objekt` **if** `podmínka`**}**\n",
    "- Dict comprehension - vytvoří slovník, syntaxe: **{**`klíč` **:** `hodnota` **for** `proměnná` **in** `iterovatelný_objekt` **if** `podmínka`**}**"
   ]
  },
  {
   "cell_type": "code",
   "execution_count": 14,
   "metadata": {},
   "outputs": [
    {
     "name": "stdout",
     "output_type": "stream",
     "text": [
      "[1, 2, 3, 4, 5]\n",
      "[2, 4]\n",
      "[3, 5]\n",
      "[(1, 1, 1), (2, 4, 8), (3, 9, 27), (4, 16, 64), (5, 25, 125)]\n"
     ]
    }
   ],
   "source": [
    "# list comprehension\n",
    "print([i for i in range(1, 6)])\n",
    "print([i for i in range(1, 6) if i % 2 == 0])\n",
    "print([i + 1 for i in range(1, 6) if i % 2 == 0])\n",
    "print([(i, i**2, i**3) for i in range(1, 6)])"
   ]
  },
  {
   "cell_type": "code",
   "execution_count": 15,
   "metadata": {},
   "outputs": [
    {
     "name": "stdout",
     "output_type": "stream",
     "text": [
      "{1, 2, 3, 4, 5}\n",
      "{2, 4}\n",
      "{3, 5}\n",
      "{(2, 4, 8), (4, 16, 64), (3, 9, 27), (5, 25, 125), (1, 1, 1)}\n"
     ]
    }
   ],
   "source": [
    "# set comprehension\n",
    "print({i for i in range(1, 6)})\n",
    "print({i for i in range(1, 6) if i % 2 == 0})\n",
    "print({i + 1 for i in range(1, 6) if i % 2 == 0})\n",
    "print({(i, i**2, i**3) for i in range(1, 6)})"
   ]
  },
  {
   "cell_type": "code",
   "execution_count": 16,
   "metadata": {},
   "outputs": [
    {
     "name": "stdout",
     "output_type": "stream",
     "text": [
      "{1: 1, 2: 4, 3: 9, 4: 16, 5: 25}\n",
      "{2: 4, 4: 16}\n",
      "{3: 4, 5: 16}\n",
      "{1: (1, 1), 2: (4, 8), 3: (9, 27), 4: (16, 64), 5: (25, 125)}\n"
     ]
    }
   ],
   "source": [
    "# dict comprehension\n",
    "print({i: i**2 for i in range(1, 6)})\n",
    "print({i: i**2 for i in range(1, 6) if i % 2 == 0})\n",
    "print({i + 1: i**2 for i in range(1, 6) if i % 2 == 0})\n",
    "print({i: (i**2, i**3) for i in range(1, 6)})"
   ]
  }
 ],
 "metadata": {
  "kernelspec": {
   "display_name": "Python 3",
   "language": "python",
   "name": "python3"
  },
  "language_info": {
   "codemirror_mode": {
    "name": "ipython",
    "version": 3
   },
   "file_extension": ".py",
   "mimetype": "text/x-python",
   "name": "python",
   "nbconvert_exporter": "python",
   "pygments_lexer": "ipython3",
   "version": "3.10.12"
  },
  "orig_nbformat": 4,
  "vscode": {
   "interpreter": {
    "hash": "e7370f93d1d0cde622a1f8e1c04877d8463912d04d973331ad4851f04de6915a"
   }
  }
 },
 "nbformat": 4,
 "nbformat_minor": 2
}
